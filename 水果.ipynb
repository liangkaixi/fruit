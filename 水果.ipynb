{
 "cells": [
  {
   "cell_type": "markdown",
   "metadata": {},
   "source": [
    "# 文字信息提取"
   ]
  },
  {
   "cell_type": "code",
   "execution_count": 113,
   "metadata": {},
   "outputs": [],
   "source": [
    "import re\n",
    "import pandas as pd\n",
    "file_path = \"/Users/liangkaixi/Desktop/001.txt\"  # 读取文件内容\n",
    "with open(file_path, 'r', encoding='utf-8') as file:\n",
    "    text = file.read()\n",
    "header_match = re.search(r'\\n(.+?)\\n', text)  # 提取第一行作为表头\n",
    "header = header_match.group(1).strip()\n",
    "members_data = []\n",
    "for match in re.finditer(r'(\\d+)\\. (.+?)(?: (\\S+))?$', text, re.MULTILINE):   # 通过正则表达式提取信息\n",
    "    groups = match.groups()\n",
    "    count = groups[2] if groups[2] is not None else '1'\n",
    "    count_numeric_match = re.search(r'(\\d+)', count)\n",
    "    count_numeric = count_numeric_match.group() if count_numeric_match else '1'\n",
    "    members_data.append(groups[:2] + (count_numeric,))\n",
    "price = 78  # 写入单价\n",
    "df = pd.DataFrame(members_data, columns=['序号', '昵称', header+f'-单价:{ price }'])  # 创建DataFrame\n",
    "sum_column_3 = df[header+f'-单价:{ price }'].astype(int).sum()   # 计算第三列的和\n",
    "df[header+'合计'] = df[header+f'-单价:{ price }'].astype(int)*price  # 写入合计金额\n",
    "df.at[0, header + '_总件数'] = sum_column_3 # 将和写入第四列的第一个单元格\n",
    "df['昵称'] = df['昵称'].str.strip()\n",
    "file_name = header.replace(' ', '_')  # 将空格替换为下划线  \n",
    "excel_file_path = f'/Users/liangkaixi/Desktop/水果调试/{file_name}.xlsx'   # 使用第一行文字作为Excel文件名\n",
    "df.to_excel(excel_file_path, index=False)\n"
   ]
  },
  {
   "cell_type": "markdown",
   "metadata": {},
   "source": [
    "# 统计汇总"
   ]
  },
  {
   "cell_type": "code",
   "execution_count": 134,
   "metadata": {},
   "outputs": [],
   "source": [
    "\n",
    "import os\n",
    "import pandas as pd\n",
    "def process_xlsx_files(folder_path, output_excel_path):\n",
    "    data = []\n",
    "    for file_name in os.listdir(folder_path):\n",
    "        if file_name.endswith(\".xlsx\"):\n",
    "            file_path = os.path.join(folder_path, file_name)\n",
    "            df = pd.read_excel(file_path)\n",
    "            col_name = df.columns[4]                                  # 获取第4列的列名\n",
    "            first_value = str(df.iloc[0, 4]) if pd.notna(df.iloc[0, 4]) else \"\"\n",
    "            data.append({'类别': col_name, '总数量': first_value})\n",
    "    output_df = pd.DataFrame(data)\n",
    "    output_df.to_excel(output_excel_path, index=False)\n",
    "if __name__ == \"__main__\":\n",
    "    folder_path = \"/Users/liangkaixi/Desktop/水果调试\"                   # 请替换为你的文件夹路径\n",
    "    output_excel_path = \"/Users/liangkaixi/Desktop/output222.xlsx\"      # 请替换为你想要输出的 Excel 文件路径\n",
    "    process_xlsx_files(folder_path, output_excel_path)\n"
   ]
  },
  {
   "cell_type": "markdown",
   "metadata": {},
   "source": [
    "# 数据merge"
   ]
  },
  {
   "cell_type": "code",
   "execution_count": 115,
   "metadata": {},
   "outputs": [],
   "source": [
    "import os\n",
    "import pandas as pd\n",
    "folder_path = '/Users/liangkaixi/Desktop/水果调试'\n",
    "file_list = [f for f in os.listdir(folder_path) if f.endswith('.xlsx') or f.endswith('.csv')]  # 获取文件夹中所有文件的列表\n",
    "merged_data = pd.DataFrame(columns=['昵称'])    # 添加'昵称'列作为初始列\n",
    "for file_name in file_list:                    # 循环遍历每个文件\n",
    "    file_path = os.path.join(folder_path, file_name)   # 构建完整的文件路径\n",
    "    df = pd.read_excel(file_path)                      # 读取文件\n",
    "    df['昵称'] = df['昵称'].str.strip()                  # 去掉空格\n",
    "    if '昵称' not in df.columns or df['昵称'].isnull().any():  # 检查是否存在\"昵称\"列和是否有缺失值\n",
    "        continue\n",
    "    selected_columns = df.iloc[:, 1:3]                        # 提取第2、3、4列数据\n",
    "    merged_data = pd.merge(merged_data, selected_columns, on='昵称', how='outer')   # 按第2列进行merge\n",
    "\n",
    "merged_data.to_excel('/Users/liangkaixi/Desktop/output_mergts.xlsx',index=False)\n"
   ]
  },
  {
   "cell_type": "markdown",
   "metadata": {},
   "source": [
    "# 详情汇总透视"
   ]
  },
  {
   "cell_type": "code",
   "execution_count": 118,
   "metadata": {},
   "outputs": [],
   "source": [
    "import pandas as pd\n",
    "file_path = '/Users/liangkaixi/Desktop/output_mergts.xlsx'\n",
    "df = pd.read_excel(file_path)\n",
    "new_column_values = []\n",
    "for index, row in df.iterrows():              # 按行遍历\n",
    "   \n",
    "    non_empty_values = row.iloc[1:].dropna()  # 排除第一列并检查该行下是否有值\n",
    "    if not non_empty_values.empty:\n",
    "        new_values = []\n",
    "        total_amount = 0                      # 初始化总金额\n",
    "        for column, value in non_empty_values.items():\n",
    "            if value % 1 == 0:\n",
    "                split_price = column.split(':')[-1]         # 切片找出需要的数据\n",
    "                split_name = column.split('-')[0]\n",
    "                item_amount = value * float(split_price)    \n",
    "                total_amount += item_amount                 # 累加总金额\n",
    "                new_values.append(f'{split_name}:{int(value)}件 {split_price}元/件')\n",
    "        if total_amount > 0:\n",
    "            formatted_total_amount = int(total_amount) if total_amount.is_integer() else round(total_amount, 1)  # 判断是否为整数\n",
    "            new_values.append(f'总计:{formatted_total_amount}元')\n",
    "        new_column_values.append(', '.join(new_values))                     # 将新值加入列表\n",
    "    else:\n",
    "        new_column_values.append('')                                        # 如果该行下没有值，则添加空字符串\n",
    "\n",
    "df.insert(1, '订单详情列', new_column_values)                                 # 在第二列位置插入新列\n",
    "df.to_excel('/Users/liangkaixi/Desktop/水果详情汇总表.xlsx', index=False)\n"
   ]
  },
  {
   "cell_type": "code",
   "execution_count": 136,
   "metadata": {},
   "outputs": [
    {
     "name": "stderr",
     "output_type": "stream",
     "text": [
      "/var/folders/3f/zkzs2p554xncvph5tq3jbyd40000gn/T/ipykernel_17730/2288201186.py:20: FutureWarning: The behavior of DataFrame concatenation with empty or all-NA entries is deprecated. In a future version, this will no longer exclude empty or all-NA columns when determining the result dtypes. To retain the old behavior, exclude the relevant entries before the concat operation.\n",
      "  result_df = pd.concat([result_df, pd.DataFrame({'第4列列名': [column_name], '求和结果': [sum_result]})], ignore_index=True)\n"
     ]
    }
   ],
   "source": [
    "import os\n",
    "import pandas as pd\n",
    "folder_path = '/Users/liangkaixi/Desktop/水果调试'\n",
    "result_df = pd.DataFrame(columns=['类别', '总金额'])   # 创建一个空的DataFrame用于存储结果\n",
    "for filename in os.listdir(folder_path):    # 遍历文件夹中的所有xlsx文件\n",
    "    if filename.endswith(\".xlsx\"):\n",
    "        file_path = os.path.join(folder_path, filename)\n",
    "        df = pd.read_excel(file_path)\n",
    "        column_name = df.columns[3]  # 获取列名\n",
    "        sum_result = df.iloc[:, 3].sum()   #  求和\n",
    "        result_df = pd.concat([result_df, pd.DataFrame({'类别': [column_name], '总金额': [sum_result]})], ignore_index=True)\n",
    "result_file_path = '/Users/liangkaixi/Desktop/各类别汇总.xlsx'\n",
    "result_df.to_excel(result_file_path, index=False)\n"
   ]
  },
  {
   "cell_type": "code",
   "execution_count": null,
   "metadata": {},
   "outputs": [],
   "source": []
  }
 ],
 "metadata": {
  "kernelspec": {
   "display_name": "Golden Scenario Env",
   "language": "python",
   "name": "golden_scenario_env"
  },
  "language_info": {
   "codemirror_mode": {
    "name": "ipython",
    "version": 3
   },
   "file_extension": ".py",
   "mimetype": "text/x-python",
   "name": "python",
   "nbconvert_exporter": "python",
   "pygments_lexer": "ipython3",
   "version": "3.11.5"
  }
 },
 "nbformat": 4,
 "nbformat_minor": 2
}
